{
 "cells": [
  {
   "cell_type": "code",
   "execution_count": null,
   "metadata": {},
   "outputs": [],
   "source": [
    "import matplotlib.pyplot as plt\n",
    "import matplotlib.image as mpimg\n",
    "import numpy as np\n",
    "from scipy import stats\n",
    "import os\n",
    "import math\n",
    "import cv2\n",
    "import PIL\n",
    "from PIL import Image  \n",
    "%matplotlib inline\n",
    "from moviepy.editor import VideoFileClip\n",
    "from IPython.display import HTML"
   ]
  },
  {
   "cell_type": "code",
   "execution_count": null,
   "metadata": {},
   "outputs": [],
   "source": [
    "def grayscale(img):\n",
    "    return cv2.cvtColor(img, cv2.COLOR_RGB2GRAY)\n",
    "       \n",
    "def canny(img, low_threshold, high_threshold):\n",
    "    return cv2.Canny(img, low_threshold, high_threshold)\n",
    "\n",
    "def gaussian_blur(img, kernel_size):\n",
    "    return cv2.GaussianBlur(img, (kernel_size, kernel_size), 0)\n",
    "\n",
    "def region_of_interest(img, vertices):\n",
    "    mask = np.zeros_like(img)   \n",
    "    \n",
    "    if len(img.shape) > 2:\n",
    "        channel_count = img.shape[2]  \n",
    "        ignore_mask_color = (255,) * channel_count\n",
    "    else:\n",
    "        ignore_mask_color = 255\n",
    "        \n",
    "    cv2.fillPoly(mask, vertices, ignore_mask_color)\n",
    "    masked_image = cv2.bitwise_and(img, mask)\n",
    "    return masked_image\n",
    "\n",
    "\n",
    "def draw_lines(img, lines, color=[255, 0, 0], thickness=2):\n",
    "    for line in lines:\n",
    "        for x1,y1,x2,y2 in line:\n",
    "            cv2.line(img, (x1, y1), (x2, y2), color, thickness)\n",
    "\n",
    "def hough_lines(img, rho, theta, threshold, min_line_len, max_line_gap):\n",
    "    lines = cv2.HoughLinesP(img, rho, theta, threshold, np.array([]), minLineLength=min_line_len, maxLineGap=max_line_gap)\n",
    "    line_img = np.zeros((img.shape[0], img.shape[1], 3), dtype=np.uint8)\n",
    "    draw_lines(line_img, lines)\n",
    "    return line_img, lines\n",
    "\n",
    "def weighted_img(img, initial_img, α=0.8, β=1., γ=0.):\n",
    "    return cv2.addWeighted(initial_img, α, img, β, γ)"
   ]
  },
  {
   "cell_type": "code",
   "execution_count": null,
   "metadata": {},
   "outputs": [],
   "source": [
    "os.listdir(\"Test_Images/\")"
   ]
  },
  {
   "cell_type": "code",
   "execution_count": null,
   "metadata": {},
   "outputs": [],
   "source": [
    "def change_color_space(img, color_space='HSV'):\n",
    "    space = cv2.COLOR_RGB2HSV\n",
    "    if color_space == 'HLS':\n",
    "        space = cv2.COLOR_RGB2HLS\n",
    "    if color_space == 'LAB':\n",
    "        space = cv2.COLOR_RGB2LAB\n",
    "    if color_space == 'RGB':\n",
    "        space = None\n",
    "    if space is not None:\n",
    "        img_copy = cv2.cvtColor(img, space)\n",
    "    else:\n",
    "        img_copy = img     \n",
    "    return img_copy"
   ]
  },
  {
   "cell_type": "code",
   "execution_count": null,
   "metadata": {},
   "outputs": [],
   "source": [
    "for name_img in os.listdir(\"Test_Images/\"):\n",
    "    image = mpimg.imread('Test_Images/'+name_img)\n",
    "    plt.figure(figsize=(10,12))\n",
    "    plt.subplot(1,4,1)\n",
    "    plt.imshow(image)\n",
    "    plt.title('original RGB')\n",
    "    img = change_color_space(image, 'HSV')\n",
    "    plt.subplot(1,4,2)\n",
    "    plt.imshow(img)\n",
    "    plt.title('HSV')\n",
    "    img = change_color_space(image,'HLS')\n",
    "    plt.subplot(1,4,3)\n",
    "    plt.imshow(img)\n",
    "    plt.title('HLS')\n",
    "    img = change_color_space(image,'LAB')\n",
    "    plt.subplot(1,4,4)\n",
    "    plt.imshow(img)\n",
    "    plt.title('LAB')\n",
    "plt.show()"
   ]
  },
  {
   "cell_type": "code",
   "execution_count": null,
   "metadata": {
    "scrolled": true
   },
   "outputs": [],
   "source": [
    "for name_img in os.listdir(\"Test_Images/\"):\n",
    "    image = mpimg.imread('Test_Images/'+name_img)\n",
    "    plt.figure(figsize=(10,12))\n",
    "    plt.subplot(1,4,1)\n",
    "    plt.imshow(image)\n",
    "    new_img = change_color_space(image, 'HSV')\n",
    "    for channel in range(3):\n",
    "        isolated_channel_image = new_img[:,:,channel]\n",
    "        plt.subplot(1,4,channel+2)\n",
    "        plt.imshow(isolated_channel_image, cmap='gray')\n",
    "    plt.show()"
   ]
  },
  {
   "cell_type": "code",
   "execution_count": null,
   "metadata": {
    "scrolled": true
   },
   "outputs": [],
   "source": [
    "for name_img in os.listdir(\"Test_Images/\"):\n",
    "    image = mpimg.imread('Test_Images/'+name_img)\n",
    "    plt.figure(figsize=(10,12))\n",
    "    plt.subplot(1,4,1)\n",
    "    plt.imshow(image)\n",
    "    new_img = change_color_space(image, 'HLS')\n",
    "    for channel in range(3):\n",
    "        isolated_channel_image = new_img[:,:,channel]\n",
    "        plt.subplot(1,4,channel+2)\n",
    "        plt.imshow(isolated_channel_image, cmap='gray')\n",
    "    plt.show()"
   ]
  },
  {
   "cell_type": "code",
   "execution_count": null,
   "metadata": {
    "scrolled": true
   },
   "outputs": [],
   "source": [
    "for name_img in os.listdir(\"Test_Images/\"):\n",
    "    image = mpimg.imread('Test_Images/'+name_img)\n",
    "    plt.figure(figsize=(10,12))\n",
    "    plt.subplot(1,4,1)\n",
    "    plt.imshow(image)\n",
    "    new_img = change_color_space(image, 'LAB')\n",
    "    for channel in range(3):\n",
    "        isolated_channel_image = new_img[:,:,channel]\n",
    "        plt.subplot(1,4,channel+2)\n",
    "        plt.imshow(isolated_channel_image, cmap='gray')\n",
    "    plt.show()\n",
    "    "
   ]
  },
  {
   "cell_type": "code",
   "execution_count": null,
   "metadata": {},
   "outputs": [],
   "source": [
    "images={}\n",
    "for index, name_img in enumerate(os.listdir(\"Test_Images/\")):\n",
    "    image = mpimg.imread('Test_Images/'+name_img)\n",
    "    if image.shape[2]>3:\n",
    "        image = image[:,:,:3]\n",
    "    LAB_img = change_color_space(image,'LAB')\n",
    "    images[index]={'original': image, 'LAB': LAB_img, 'B_channel': LAB_img[:,:,2]}\n",
    "print('number of LAB images: ', len(LAB_img))"
   ]
  },
  {
   "cell_type": "code",
   "execution_count": null,
   "metadata": {},
   "outputs": [],
   "source": [
    "def extract_line(img, lower, upper):\n",
    "    mask = cv2.inRange(img, np.array(lower,dtype=np.uint8), np.array(upper, dtype=np.uint8))\n",
    "    return mask"
   ]
  },
  {
   "cell_type": "code",
   "execution_count": null,
   "metadata": {
    "scrolled": false
   },
   "outputs": [],
   "source": [
    "for index in range(len(images)):\n",
    "    img = images[index]['original']\n",
    "    LAB_img = images[index]['LAB']\n",
    "    B_ch = images[index]['B_channel']\n",
    "    plt.figure(figsize=(12,12))\n",
    "    plt.subplot(1,4,1)\n",
    "    plt.imshow(img)\n",
    "    plt.title('original RGB')\n",
    "    plt.subplot(1,4,2)\n",
    "    plt.imshow(B_ch)\n",
    "    plt.title('B channel LAB color space')\n",
    "    yellow_lines = extract_line(LAB_img, [100,100,150], [220,180,255])\n",
    "    plt.subplot(1,4,3)\n",
    "    plt.imshow(yellow_lines, cmap = 'gray')\n",
    "    plt.title('Extracted Yellow lines')\n",
    "    hough_img, lines = hough_lines(yellow_lines, rho=1, theta=np.pi/180, threshold=50, min_line_len=10, max_line_gap=10)\n",
    "    plt.subplot(1,4,4)\n",
    "    plt.imshow(hough_img, cmap = 'gray')\n",
    "    plt.title('Reconstructed Hough Yellow lines') \n",
    "    images[index]['yellow_mask'] = yellow_lines\n",
    "    images[index]['hough_image_y'] = hough_img\n",
    "    images[index]['hough_yellow_lines'] = lines   \n",
    "plt.show()"
   ]
  },
  {
   "cell_type": "code",
   "execution_count": null,
   "metadata": {},
   "outputs": [],
   "source": [
    "for index, name_img in enumerate(os.listdir(\"Test_Images/\")):\n",
    "    assert len(os.listdir(\"Test_Images/\"))==len(images), \" \"\n",
    "    image = mpimg.imread('Test_Images/'+name_img)\n",
    "    HLS_img = change_color_space(image,'HLS')\n",
    "    images[index]['HLS'] = HLS_img\n",
    "print('number of HLS images: ', len(images))"
   ]
  },
  {
   "cell_type": "code",
   "execution_count": null,
   "metadata": {
    "scrolled": false
   },
   "outputs": [],
   "source": [
    "for index in range(len(images)):\n",
    "    img = images[index]['original']\n",
    "    HLS_img = images[index]['HLS']\n",
    "    plt.figure(figsize=(12,12))\n",
    "    plt.subplot(1,4,1)\n",
    "    plt.imshow(img)\n",
    "    plt.title('Original RGB')\n",
    "    white_lines = extract_line(HLS_img, [0,200,0], [180,255,255])\n",
    "    plt.subplot(1,4,2)\n",
    "    plt.imshow(white_lines, cmap = 'gray')\n",
    "    plt.title('Extracted White lines')\n",
    "    white_lines = cv2.dilate(white_lines, kernel=np.ones((5,5), np.uint8), iterations=2)\n",
    "    white_lines = cv2.erode(white_lines, kernel=np.ones((5,5), np.uint8), iterations=2)\n",
    "    white_lines = cv2.dilate(white_lines, kernel=np.ones((5,5), np.uint8), iterations=1)\n",
    "    plt.subplot(1,4,3)\n",
    "    plt.imshow(white_lines, cmap = 'gray')\n",
    "    plt.title('Enhanced White lines')  \n",
    "    hough_img, lines = hough_lines(white_lines, rho=1, theta=np.pi/180, threshold=5, min_line_len=3, max_line_gap=30)\n",
    "    plt.subplot(1,4,4)\n",
    "    plt.imshow(hough_img, cmap = 'gray')\n",
    "    plt.title('Reconstructed Hough White lines') \n",
    "    images[index]['white_mask'] = white_lines\n",
    "    images[index]['hough_image_w'] = hough_img\n",
    "    images[index]['hough_white_lines'] = lines   \n",
    "plt.show()"
   ]
  },
  {
   "cell_type": "code",
   "execution_count": null,
   "metadata": {
    "scrolled": false
   },
   "outputs": [],
   "source": [
    "for index in range(len(images)):\n",
    "    img = images[index]['original']\n",
    "    yellow_lines = images[index]['yellow_mask']\n",
    "    white_lines = images[index]['white_mask']\n",
    "    plt.figure(figsize=(8,10))\n",
    "    plt.subplot(1,2,1)\n",
    "    plt.imshow(img)\n",
    "    plt.title('original RGB')\n",
    "    line_mask = yellow_lines + white_lines\n",
    "    masked_img = np.copy(img)\n",
    "    masked_img = cv2.dilate(masked_img, kernel=np.ones((5,5), np.uint8), iterations=2)\n",
    "    masked_img = cv2.erode(masked_img, kernel=np.ones((5,5), np.uint8), iterations=2)\n",
    "    masked_img = cv2.dilate(masked_img, kernel=np.ones((5,5), np.uint8), iterations=1)\n",
    "    masked_img[line_mask!=255] = [0,0,0]\n",
    "    plt.subplot(1,2,2)\n",
    "    plt.imshow(masked_img)\n",
    "    plt.title('Original after lane detection')\n",
    "    images[index]['masked'] = masked_img\n",
    "plt.show()"
   ]
  },
  {
   "cell_type": "code",
   "execution_count": null,
   "metadata": {},
   "outputs": [],
   "source": [
    "def get_vertices_for_img(img):\n",
    "    imshape = img.shape\n",
    "    height = imshape[0]\n",
    "    width = imshape[1]\n",
    "    vert = None\n",
    "    \n",
    "    if (width, height) == (960, 540):\n",
    "        region_bottom_left = (130 ,imshape[0] - 1)\n",
    "        region_top_left = (410, 330)\n",
    "        region_top_right = (650, 350)\n",
    "        region_bottom_right = (imshape[1] - 30,imshape[0] - 1)\n",
    "        vert = np.array([[region_bottom_left , region_top_left, region_top_right, region_bottom_right]], dtype=np.int32)\n",
    "    else:\n",
    "        region_bottom_left = (200 , 680)\n",
    "        region_top_left = (600, 450)\n",
    "        region_top_right = (750, 450)\n",
    "        region_bottom_right = (1100, 650)\n",
    "        vert = np.array([[region_bottom_left , region_top_left, region_top_right, region_bottom_right]], dtype=np.int32)\n",
    "    return vert\n",
    "\n",
    "def region_of_interest(img):\n",
    "    mask = np.zeros_like(img)   \n",
    "    if len(img.shape) > 2:\n",
    "        channel_count = img.shape[2]\n",
    "        ignore_mask_color = (255,) * channel_count\n",
    "    else:\n",
    "        ignore_mask_color = 255    \n",
    "    vert = get_vertices_for_img(img)    \n",
    "    cv2.fillPoly(mask, vert, ignore_mask_color)\n",
    "    masked_image = cv2.bitwise_and(img, mask)\n",
    "    return masked_image"
   ]
  },
  {
   "cell_type": "code",
   "execution_count": null,
   "metadata": {
    "scrolled": false
   },
   "outputs": [],
   "source": [
    "for index in range(len(images)):\n",
    "    img = images[index]['original']\n",
    "    masked = images[index]['masked']\n",
    "    plt.figure(figsize=(15,15))\n",
    "    plt.subplot(1,4,1)\n",
    "    plt.imshow(img)\n",
    "    plt.title('original RGB')\n",
    "    plt.subplot(1,4,2)\n",
    "    plt.imshow(masked)\n",
    "    plt.title('original after lane extraction')\n",
    "    cleaned_img = region_of_interest(masked)\n",
    "    plt.subplot(1,4,3)\n",
    "    plt.imshow(cleaned_img)\n",
    "    plt.title('original extraction cleaned')\n",
    "    hough_img, lines = hough_lines(grayscale(cleaned_img), rho=1, theta=np.pi/180, threshold=17, min_line_len=7, max_line_gap=0)\n",
    "    plt.subplot(1,4,4)\n",
    "    plt.imshow(hough_img)\n",
    "    plt.title('Hough reconstruction')\n",
    "    images[index]['cleaned'] = cleaned_img\n",
    "    images[index]['hough_lines'] = lines\n",
    "    plt.show()"
   ]
  },
  {
   "cell_type": "code",
   "execution_count": null,
   "metadata": {
    "scrolled": false
   },
   "outputs": [],
   "source": [
    "for index in range(len(images)):\n",
    "    img = images[index]['original']\n",
    "    cleaned = images[index]['cleaned']\n",
    "    lines = images[index]['hough_lines']\n",
    "    img_with_lines = weighted_img(cleaned, img, α=0.8, β=1., γ=0.) \n",
    "    copy_img = np.copy(img)\n",
    "    draw_lines(copy_img, lines, color=[255, 0, 0], thickness=2) \n",
    "    plt.figure(figsize=(8,10))\n",
    "    plt.subplot(1,3,1)\n",
    "    plt.imshow(img)\n",
    "    plt.title('original RGB')\n",
    "    plt.subplot(1,3,2)\n",
    "    plt.imshow(img_with_lines)\n",
    "    plt.title('overlaid with lane mask')\n",
    "    plt.subplot(1,3,3)\n",
    "    plt.imshow(copy_img)\n",
    "    plt.title('overlaid with hough lines')   \n",
    "    images[index]['with_lines'] = img_with_lines\n",
    "    plt.show()"
   ]
  },
  {
   "cell_type": "code",
   "execution_count": null,
   "metadata": {},
   "outputs": [],
   "source": [
    "def find_lane_lines_formula(lines):\n",
    "    xs = []\n",
    "    ys = [] \n",
    "    for line in lines:\n",
    "        for x1, y1, x2, y2 in line:\n",
    "            xs.append(x1)\n",
    "            xs.append(x2)\n",
    "            ys.append(y1)\n",
    "            ys.append(y2)  \n",
    "    slope, intercept, r_value, p_value, std_err = stats.linregress(xs, ys)   \n",
    "    return (slope, intercept)"
   ]
  },
  {
   "cell_type": "code",
   "execution_count": null,
   "metadata": {},
   "outputs": [],
   "source": [
    "def draw_full_lines(img, slope, intersept, color, thickness):\n",
    "    y = np.array([int(img.shape[0]*0.63),img.shape[0]-1], 'float')\n",
    "    x = (y - intersept)/slope\n",
    "    cv2.line(img, (int(x[0]), int(y[0])), (int(x[1]), int(y[1])), color, thickness)"
   ]
  },
  {
   "cell_type": "code",
   "execution_count": null,
   "metadata": {
    "scrolled": false
   },
   "outputs": [],
   "source": [
    "for index in range(len(images)):  \n",
    "    img = images[index]['original']\n",
    "    lines = images[index]['hough_lines']\n",
    "    copy_img = np.copy(img)    \n",
    "    right_lanes = []\n",
    "    left_lanes = []    \n",
    "    epsilon = 0.5\n",
    "    middle_region_x = img.shape[1]/2\n",
    "    for line in lines:\n",
    "        x1,y1,x2,y2 = line[0]       \n",
    "        if (x2-x1)!=0 and (y2-y1)!=0 :\n",
    "            slope = (y2-y1)/(x2-x1)           \n",
    "            if abs(slope) > epsilon:        \n",
    "                if slope > 0 and middle_region_x<x1<x2:            \n",
    "                    right_lanes.append([[x1,y1,x2,y2]])                   \n",
    "                elif slope < 0 and x1<x2<middle_region_x:                    \n",
    "                    left_lanes.append([[x1,y1,x2,y2]])\n",
    "    slope, intersept = find_lane_lines_formula(right_lanes)\n",
    "    color=[255, 0, 0]\n",
    "    draw_full_lines(copy_img, slope, intersept, color, 10)\n",
    "    slope, intersept = find_lane_lines_formula(left_lanes)\n",
    "    color=[0, 0, 255]\n",
    "    draw_full_lines(copy_img, slope, intersept, color, 10)   \n",
    "    plt.figure(figsize=(10,8))\n",
    "    plt.subplot(1,2,1)\n",
    "    plt.imshow(img)\n",
    "    plt.title('Original RGB')\n",
    "    plt.subplot(1,2,2)\n",
    "    plt.imshow(copy_img)\n",
    "    plt.title('With full-bodied lanes')  \n",
    "    images[index]['Left_Right_Colored_lines'] = copy_img\n",
    "    plt.show()"
   ]
  },
  {
   "cell_type": "markdown",
   "metadata": {},
   "source": [
    "Create a folder \"The name you want\" to store your test images output"
   ]
  },
  {
   "cell_type": "code",
   "execution_count": null,
   "metadata": {},
   "outputs": [],
   "source": [
    "directory = 'Test_Images_Output'\n",
    "for index, name_img in enumerate(os.listdir(\"Test_Images/\")):\n",
    "    saved_image = images[index]['Left_Right_Colored_lines']\n",
    "    Image.fromarray(saved_image).save(os.path.join(directory,name_img))"
   ]
  },
  {
   "cell_type": "code",
   "execution_count": null,
   "metadata": {},
   "outputs": [],
   "source": [
    "def process_image(image):   \n",
    "    LAB_img = change_color_space(image,'LAB')\n",
    "    yellow_lines = extract_line(LAB_img, [100,100,150], [220,180,255])   \n",
    "    HLS_img = change_color_space(image,'HLS')\n",
    "    white_lines = extract_line(HLS_img, [0,200,0], [180,255,255]) \n",
    "    white_lines = cv2.dilate(white_lines, kernel=np.ones((5,5), np.uint8), iterations=2)\n",
    "    white_lines = cv2.erode(white_lines, kernel=np.ones((5,5), np.uint8), iterations=2)\n",
    "    white_lines = cv2.dilate(white_lines, kernel=np.ones((5,5), np.uint8), iterations=1)    \n",
    "    line_mask = yellow_lines + white_lines   \n",
    "    masked_img = np.copy(image)\n",
    "    masked_img = cv2.dilate(masked_img, kernel=np.ones((5,5), np.uint8), iterations=2)\n",
    "    masked_img = cv2.erode(masked_img, kernel=np.ones((5,5), np.uint8), iterations=2)\n",
    "    masked_img = cv2.dilate(masked_img, kernel=np.ones((5,5), np.uint8), iterations=1)\n",
    "    masked_img[line_mask!=255] = [0,0,0]    \n",
    "    cleaned_img = region_of_interest(masked_img)\n",
    "    hough_img, lines = hough_lines(grayscale(cleaned_img), rho=1, theta=np.pi/180, threshold=17, min_line_len=7, max_line_gap=0)   \n",
    "    overlay = np.zeros_like(image)   \n",
    "    right_lanes = []\n",
    "    left_lanes = []    \n",
    "    epsilon = 0.5                        \n",
    "    middle_region_x = image.shape[1]/2  \n",
    "    for line in lines:\n",
    "        x1,y1,x2,y2 = line[0]       \n",
    "        if (x2-x1)!=0 and (y2-y1)!=0 :\n",
    "            slope = (y2-y1)/(x2-x1)            \n",
    "            if abs(slope) > epsilon:        \n",
    "                if slope > 0 and middle_region_x<x1<x2:           \n",
    "                    right_lanes.append([[x1,y1,x2,y2]])                    \n",
    "                elif slope < 0 and x1<x2<middle_region_x:                  \n",
    "                    left_lanes.append([[x1,y1,x2,y2]])   \n",
    "    color=[0, 0, 255]\n",
    "    if len(right_lanes)!=0:\n",
    "        slope, intersept = find_lane_lines_formula(right_lanes)\n",
    "        draw_full_lines(overlay, slope, intersept, color, 10)\n",
    "    \n",
    "    if len(left_lanes)!=0:\n",
    "        slope, intersept = find_lane_lines_formula(left_lanes)\n",
    "        draw_full_lines(overlay, slope, intersept, color, 10)  \n",
    "    result = weighted_img(overlay, image, α=0.8, β=1., γ=0.)\n",
    "    return result"
   ]
  },
  {
   "cell_type": "code",
   "execution_count": null,
   "metadata": {},
   "outputs": [],
   "source": [
    "image = mpimg.imread('C:\\\\Users\\\\arnab\\\\Desktop\\\\PROJECTS\\\\Test_Images\\\\IMG_1.jpg')\n",
    "result = process_image(image)\n",
    "plt.figure(figsize=(10,8))\n",
    "plt.subplot(1,2,1)\n",
    "plt.imshow(image)\n",
    "plt.title('Original RGB')\n",
    "plt.subplot(1,2,2)\n",
    "plt.imshow(result)\n",
    "plt.title('With full-bodied overlaid lines')\n",
    "plt.show()   "
   ]
  },
  {
   "cell_type": "markdown",
   "metadata": {},
   "source": [
    "Create a folder \"The name you want\" to store test videos output"
   ]
  },
  {
   "cell_type": "code",
   "execution_count": null,
   "metadata": {},
   "outputs": [],
   "source": [
    "output1 = 'C:\\\\Users\\\\arnab\\\\Desktop\\\\PROJECTS\\\\Test_Videos_Output\\\\VID_1.mp4'\n",
    "clip1 = VideoFileClip('C:\\\\Users\\\\arnab\\\\Desktop\\\\PROJECTS\\\\Test_Videos\\\\VID_1.mp4')\n",
    "vid1 = clip1.fl_image(process_image)\n",
    "%time vid1.write_videofile(output1, audio=False)"
   ]
  },
  {
   "cell_type": "code",
   "execution_count": null,
   "metadata": {},
   "outputs": [],
   "source": [
    "output1 = HTML(\"\"\"\n",
    "<video width=\"960\" height=\"540\" controls>\n",
    "  <source src=\"{0}\">\n",
    "</video>\n",
    "\"\"\".format(output1))"
   ]
  },
  {
   "cell_type": "code",
   "execution_count": null,
   "metadata": {},
   "outputs": [],
   "source": [
    "output2 = 'C:\\\\Users\\\\arnab\\\\Desktop\\\\PROJECTS\\\\Test_Videos_Output\\\\VID_2(Right).mp4'\n",
    "clip2 = VideoFileClip('C:\\\\Users\\\\arnab\\\\Desktop\\\\PROJECTS\\\\Test_Videos\\\\VID_2(Right).mp4')\n",
    "vid2 = clip2.fl_image(process_image) \n",
    "%time vid2.write_videofile(output2, audio=False)z"
   ]
  },
  {
   "cell_type": "code",
   "execution_count": null,
   "metadata": {},
   "outputs": [],
   "source": [
    "video_output = HTML(\"\"\"\n",
    "<video width=\"960\" height=\"540\" controls>\n",
    "  <source src=\"{0}\">\n",
    "</video>\n",
    "\"\"\".format(output2))"
   ]
  },
  {
   "cell_type": "code",
   "execution_count": null,
   "metadata": {},
   "outputs": [],
   "source": [
    "output3 = 'C:\\\\Users\\\\arnab\\\\Desktop\\\\PROJECTS\\\\Test_Videos_Output\\\\VID_3(Left).mp4'\n",
    "clip3 = VideoFileClip(\"C:\\\\Users\\\\arnab\\\\Desktop\\\\PROJECTS\\\\Test_videos\\\\VID_3(left).mp4\")\n",
    "vid3 = clip3.fl_image(process_image)\n",
    "vid3.write_videofile(output3, audio=False, codec='mpeg4')"
   ]
  },
  {
   "cell_type": "code",
   "execution_count": null,
   "metadata": {},
   "outputs": [],
   "source": [
    "video_output = HTML(\"\"\"\n",
    "<video width=\"960\" height=\"540\" controls>\n",
    "  <source src=\"{0}\">\n",
    "</video>\n",
    "\"\"\".format(output3))"
   ]
  }
 ],
 "metadata": {
  "anaconda-cloud": {},
  "kernelspec": {
   "display_name": "Python 3 (ipykernel)",
   "language": "python",
   "name": "python3"
  },
  "language_info": {
   "codemirror_mode": {
    "name": "ipython",
    "version": 3
   },
   "file_extension": ".py",
   "mimetype": "text/x-python",
   "name": "python",
   "nbconvert_exporter": "python",
   "pygments_lexer": "ipython3",
   "version": "3.12.3"
  }
 },
 "nbformat": 4,
 "nbformat_minor": 1
}
