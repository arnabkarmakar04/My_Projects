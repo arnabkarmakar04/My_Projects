{
 "cells": [
  {
   "cell_type": "code",
   "execution_count": null,
   "metadata": {},
   "outputs": [],
   "source": [
    "import tkinter as tk\n",
    "from tkinter import filedialog, Menu"
   ]
  },
  {
   "cell_type": "code",
   "execution_count": null,
   "metadata": {},
   "outputs": [],
   "source": [
    "root = tk.Tk()\n",
    "root.title(\"Text Editor\")"
   ]
  },
  {
   "cell_type": "code",
   "execution_count": null,
   "metadata": {},
   "outputs": [],
   "source": [
    "text_widget = tk.Text(root)\n",
    "text_widget.pack(expand=True, fill=\"both\")"
   ]
  },
  {
   "cell_type": "code",
   "execution_count": null,
   "metadata": {},
   "outputs": [],
   "source": [
    "def save_as():\n",
    "    content = text_widget.get(\"1.0\", tk.END)\n",
    "    file_path = filedialog.asksaveasfilename(defaultextension=\".txt\",filetypes=[(\"Text Files\", \"*.txt\"), (\"All Files\", \"*.*\")])\n",
    "    if file_path:\n",
    "        try:\n",
    "            with open(file_path, \"w\") as file:\n",
    "                file.write(content)\n",
    "            print(\"File saved successfully!\")\n",
    "        except Exception as e:\n",
    "            print(f\"Error saving file: {e}\")"
   ]
  },
  {
   "cell_type": "code",
   "execution_count": null,
   "metadata": {},
   "outputs": [],
   "source": [
    "def open_file():\n",
    "    file_path = filedialog.askopenfilename(filetypes=[(\"Text Files\", \"*.txt\"), (\"All Files\", \"*.*\")])\n",
    "    if file_path:\n",
    "        try:\n",
    "            with open(file_path, \"r\") as file:\n",
    "                content = file.read()\n",
    "                text_widget.delete(\"1.0\", tk.END)\n",
    "                text_widget.insert(tk.END, content)\n",
    "            print(\"File opened successfully!\")\n",
    "        except Exception as e:\n",
    "            print(f\"Error opening file: {e}\")"
   ]
  },
  {
   "cell_type": "code",
   "execution_count": null,
   "metadata": {},
   "outputs": [],
   "source": [
    "def set_font(font_name):\n",
    "    text_widget.config(font=(font_name, 12))"
   ]
  },
  {
   "cell_type": "code",
   "execution_count": null,
   "metadata": {},
   "outputs": [],
   "source": [
    "save_button = tk.Button(root, text=\"Save\", command=save_as)\n",
    "save_button.pack(side=\"left\")"
   ]
  },
  {
   "cell_type": "code",
   "execution_count": null,
   "metadata": {},
   "outputs": [],
   "source": [
    "open_button = tk.Button(root, text=\"Open\", command=open_file)\n",
    "open_button.pack(side=\"left\")"
   ]
  },
  {
   "cell_type": "code",
   "execution_count": null,
   "metadata": {},
   "outputs": [],
   "source": [
    "font_menu = Menu(root)\n",
    "root.config(menu=font_menu)\n",
    "\n",
    "font_submenu = Menu(font_menu, tearoff=0)\n",
    "font_menu.add_cascade(label=\"Font\", menu=font_submenu)\n",
    "\n",
    "fonts = [\"Courier\", \"Helvetica\", \"Georgia\", \"Arial\", \"Verdana\"]\n",
    "for font in fonts:\n",
    "    font_submenu.add_command(label=font, command=lambda f=font: set_font(f))"
   ]
  },
  {
   "cell_type": "code",
   "execution_count": null,
   "metadata": {},
   "outputs": [],
   "source": [
    "root.mainloop()"
   ]
  },
  {
   "cell_type": "code",
   "execution_count": null,
   "metadata": {},
   "outputs": [],
   "source": []
  }
 ],
 "metadata": {
  "kernelspec": {
   "display_name": "Python 3",
   "language": "python",
   "name": "python3"
  },
  "language_info": {
   "codemirror_mode": {
    "name": "ipython",
    "version": 3
   },
   "file_extension": ".py",
   "mimetype": "text/x-python",
   "name": "python",
   "nbconvert_exporter": "python",
   "pygments_lexer": "ipython3",
   "version": "3.12.3"
  }
 },
 "nbformat": 4,
 "nbformat_minor": 2
}
